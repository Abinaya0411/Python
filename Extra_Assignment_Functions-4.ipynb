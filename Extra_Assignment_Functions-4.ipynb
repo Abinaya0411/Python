{
 "cells": [
  {
   "cell_type": "code",
   "execution_count": 1,
   "metadata": {},
   "outputs": [],
   "source": [
    "def Subfields():\n",
    "    SubfieldsAI=['Machine Learning','Neural Networks','Vision','Robotics','Speech Processing','Natural Language Processing']\n",
    "    print(\"Sub-fields in AI are:\")\n",
    "    for temp in SubfieldsAI:\n",
    "        print(temp)"
   ]
  },
  {
   "cell_type": "code",
   "execution_count": 2,
   "metadata": {},
   "outputs": [
    {
     "name": "stdout",
     "output_type": "stream",
     "text": [
      "Sub-fields in AI are:\n",
      "Machine Learning\n",
      "Neural Networks\n",
      "Vision\n",
      "Robotics\n",
      "Speech Processing\n",
      "Natural Language Processing\n"
     ]
    }
   ],
   "source": [
    "Subfields()"
   ]
  },
  {
   "cell_type": "code",
   "execution_count": 3,
   "metadata": {},
   "outputs": [],
   "source": [
    "def OddEven():\n",
    "    number=int(input(\"Enter the number:\"))\n",
    "    if(number%2==0):\n",
    "        print(number,\"is Even number\")\n",
    "    else:\n",
    "        print(number,\"is Odd number\")"
   ]
  },
  {
   "cell_type": "code",
   "execution_count": 4,
   "metadata": {},
   "outputs": [
    {
     "name": "stdout",
     "output_type": "stream",
     "text": [
      "Enter the number:52452\n",
      "52452 is Even number\n"
     ]
    }
   ],
   "source": [
    "numb=OddEven()"
   ]
  },
  {
   "cell_type": "code",
   "execution_count": 7,
   "metadata": {},
   "outputs": [],
   "source": [
    "def Elegiblity():\n",
    "    gender=input('your gender:')\n",
    "    Age=int(input('your age:'))\n",
    "    if(gender.lower()=='male'):\n",
    "        if(Age>=21):\n",
    "            print('ELIGIBLE')\n",
    "        else:\n",
    "            print('NOT ELIGIBLE')\n",
    "    elif(gender.lower()=='female'):\n",
    "        if(Age>=18):\n",
    "            print('ELIGIBLE')\n",
    "        else:\n",
    "            print('NOT ELIGIBLE')\n",
    "    else:\n",
    "        print(\"Don't know\")\n",
    "            "
   ]
  },
  {
   "cell_type": "code",
   "execution_count": 8,
   "metadata": {},
   "outputs": [
    {
     "name": "stdout",
     "output_type": "stream",
     "text": [
      "your gender:male\n",
      "your age:20\n",
      "NOT ELIGIBLE\n"
     ]
    }
   ],
   "source": [
    "MarriageEligiblity=Elegiblity()"
   ]
  },
  {
   "cell_type": "code",
   "execution_count": 1,
   "metadata": {},
   "outputs": [],
   "source": [
    "def percentage():\n",
    "    Subject1=int(input(\"Subject1= \"))   \n",
    "    Subject2=int(input(\"Subject2= \"))    \n",
    "    Subject3=int(input(\"Subject3= \"))    \n",
    "    Subject4=int(input(\"Subject4= \"))    \n",
    "    Subject5=int(input(\"Subject5= \"))\n",
    "    \n",
    "    Total= Subject1+Subject2+Subject3+Subject4+Subject5\n",
    "    print(\"Total:\",Total)\n",
    "    Percentage=Total/5\n",
    "    print(\"Percentage:\",Percentage)\n"
   ]
  },
  {
   "cell_type": "code",
   "execution_count": 2,
   "metadata": {},
   "outputs": [
    {
     "name": "stdout",
     "output_type": "stream",
     "text": [
      "Subject1= 95\n",
      "Subject2= 95\n",
      "Subject3= 93\n",
      "Subject4= 87\n",
      "Subject5= 98\n",
      "Total: 468\n",
      "Percentage: 93.6\n"
     ]
    }
   ],
   "source": [
    "percent=percentage()"
   ]
  },
  {
   "cell_type": "code",
   "execution_count": 17,
   "metadata": {},
   "outputs": [],
   "source": [
    "def triangle():\n",
    "    height=int(input(\"Height:\"))\n",
    "    breadth=int(input(\"Breadth:\"))\n",
    "    #print(\"Area formula: (Height*Breadth)/2\")\n",
    "    AreaOfTriangle=(height*breadth)/2\n",
    "    print(\"Area Of Triangle:\",AreaOfTriangle)\n",
    "    height1=int(input(\"Height1:\"))\n",
    "    height2=int(input(\"Height2:\"))\n",
    "    breadth1=int(input(\"Breadth1:\"))\n",
    "    #print(\"Perimeter formula: Height1+Height2+Breadth\")\n",
    "    PerimeterOfTriangle= height1+height2+breadth1\n",
    "    print(\"Perimeter Of Triangle:\",PerimeterOfTriangle)\n",
    "    "
   ]
  },
  {
   "cell_type": "code",
   "execution_count": 18,
   "metadata": {},
   "outputs": [
    {
     "name": "stdout",
     "output_type": "stream",
     "text": [
      "Height:32\n",
      "Breadth:34\n",
      "Area Of Triangle: 544.0\n",
      "Height1:2\n",
      "Height2:4\n",
      "Breadth1:4\n",
      "Perimeter Of Triangle: 10\n"
     ]
    }
   ],
   "source": [
    "AreaPerimeter=triangle()"
   ]
  },
  {
   "cell_type": "code",
   "execution_count": null,
   "metadata": {},
   "outputs": [],
   "source": []
  }
 ],
 "metadata": {
  "kernelspec": {
   "display_name": "Python 3",
   "language": "python",
   "name": "python3"
  },
  "language_info": {
   "codemirror_mode": {
    "name": "ipython",
    "version": 3
   },
   "file_extension": ".py",
   "mimetype": "text/x-python",
   "name": "python",
   "nbconvert_exporter": "python",
   "pygments_lexer": "ipython3",
   "version": "3.7.4"
  }
 },
 "nbformat": 4,
 "nbformat_minor": 2
}
