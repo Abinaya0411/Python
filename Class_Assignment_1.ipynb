{
 "cells": [
  {
   "cell_type": "code",
   "execution_count": 2,
   "metadata": {},
   "outputs": [],
   "source": [
    "class SubfieldsInAI():\n",
    "    def Subfields():\n",
    "        SubfieldsAI=['Machine Learning','Neural Networks','Vision','Robotics','Speech Processing','Natural Language Processing']\n",
    "        print(\"Sub-fields in AI are:\")\n",
    "        for temp in SubfieldsAI:\n",
    "            print(temp)"
   ]
  },
  {
   "cell_type": "code",
   "execution_count": 3,
   "metadata": {},
   "outputs": [
    {
     "name": "stdout",
     "output_type": "stream",
     "text": [
      "Sub-fields in AI are:\n",
      "Machine Learning\n",
      "Neural Networks\n",
      "Vision\n",
      "Robotics\n",
      "Speech Processing\n",
      "Natural Language Processing\n"
     ]
    }
   ],
   "source": [
    "SubfieldsInAI.Subfields()\n"
   ]
  },
  {
   "cell_type": "code",
   "execution_count": 5,
   "metadata": {},
   "outputs": [],
   "source": [
    "class OddEven():\n",
    "    def OddEven():\n",
    "        number=int(input(\"Enter the number:\"))\n",
    "        if(number%2==0):\n",
    "            print(number,\"is Even number\")\n",
    "        else:\n",
    "            print(number,\"is Odd number\")"
   ]
  },
  {
   "cell_type": "code",
   "execution_count": 6,
   "metadata": {},
   "outputs": [
    {
     "name": "stdout",
     "output_type": "stream",
     "text": [
      "Enter the number:52452\n",
      "52452 is Even number\n"
     ]
    }
   ],
   "source": [
    "OddEven.OddEven()"
   ]
  },
  {
   "cell_type": "code",
   "execution_count": 8,
   "metadata": {},
   "outputs": [],
   "source": [
    "class ElegiblityForMarriage():\n",
    "    def Elegiblity():\n",
    "        gender=input('your gender:')\n",
    "        Age=int(input('your age:'))\n",
    "        if(gender.lower()=='male'):\n",
    "            if(Age>=21):\n",
    "                print('ELIGIBLE')\n",
    "            else:\n",
    "                print('NOT ELIGIBLE')\n",
    "        elif(gender.lower()=='female'):\n",
    "            if(Age>=18):\n",
    "                print('ELIGIBLE')\n",
    "            else:\n",
    "                print('NOT ELIGIBLE')\n",
    "        else:\n",
    "            print(\"Don't know\")"
   ]
  },
  {
   "cell_type": "code",
   "execution_count": 10,
   "metadata": {},
   "outputs": [
    {
     "name": "stdout",
     "output_type": "stream",
     "text": [
      "your gender:male\n",
      "your age:20\n",
      "NOT ELIGIBLE\n"
     ]
    }
   ],
   "source": [
    "ElegiblityForMarriage.Elegiblity()\n"
   ]
  },
  {
   "cell_type": "code",
   "execution_count": 15,
   "metadata": {},
   "outputs": [],
   "source": [
    "class  FindPercent():\n",
    "    def percentage():\n",
    "        Subject1=95\n",
    "        print(\"Subject1=\",Subject1)\n",
    "        Subject2=95\n",
    "        print(\"Subject2=\",Subject2)\n",
    "        Subject3=93\n",
    "        print(\"Subject3=\",Subject3)\n",
    "        Subject4=87\n",
    "        print(\"Subject4=\",Subject4)\n",
    "        Subject5=98\n",
    "        print(\"Subject5=\",Subject5)\n",
    "        Total= Subject1+Subject2+Subject3+Subject4+Subject5\n",
    "        print(\"Total:\",Total)\n",
    "        Percentage=Total/5\n",
    "        print(\"Percentage:\",Percentage)\n"
   ]
  },
  {
   "cell_type": "code",
   "execution_count": 16,
   "metadata": {},
   "outputs": [
    {
     "name": "stdout",
     "output_type": "stream",
     "text": [
      "Subject1= 95\n",
      "Subject2= 95\n",
      "Subject3= 93\n",
      "Subject4= 87\n",
      "Subject5= 98\n",
      "Total: 468\n",
      "Percentage: 93.6\n"
     ]
    }
   ],
   "source": [
    "FindPercent.percentage()"
   ]
  },
  {
   "cell_type": "code",
   "execution_count": 13,
   "metadata": {},
   "outputs": [],
   "source": [
    "class triangle():\n",
    "    def triangle():\n",
    "        height=int(input(\"Height:\"))\n",
    "        breadth=int(input(\"Breadth:\"))\n",
    "        #print(\"Area formula: (Height*Breadth)/2\")\n",
    "        AreaOfTriangle=(height*breadth)/2\n",
    "        print(\"Area Of Triangle:\",AreaOfTriangle)\n",
    "        height1=int(input(\"Height1:\"))\n",
    "        height2=int(input(\"Height2:\"))\n",
    "        breadth1=int(input(\"Breadth1:\"))\n",
    "        #print(\"Perimeter formula: Height1+Height2+Breadth\")\n",
    "        PerimeterOfTriangle= height1+height2+breadth1\n",
    "        print(\"Perimeter Of Triangle:\",PerimeterOfTriangle)\n",
    "    "
   ]
  },
  {
   "cell_type": "code",
   "execution_count": 14,
   "metadata": {},
   "outputs": [
    {
     "name": "stdout",
     "output_type": "stream",
     "text": [
      "Height:32\n",
      "Breadth:34\n",
      "Area Of Triangle: 544.0\n",
      "Height1:2\n",
      "Height2:4\n",
      "Breadth1:4\n",
      "Perimeter Of Triangle: 10\n"
     ]
    }
   ],
   "source": [
    "triangle.triangle()"
   ]
  },
  {
   "cell_type": "code",
   "execution_count": null,
   "metadata": {},
   "outputs": [],
   "source": []
  }
 ],
 "metadata": {
  "kernelspec": {
   "display_name": "Python 3",
   "language": "python",
   "name": "python3"
  },
  "language_info": {
   "codemirror_mode": {
    "name": "ipython",
    "version": 3
   },
   "file_extension": ".py",
   "mimetype": "text/x-python",
   "name": "python",
   "nbconvert_exporter": "python",
   "pygments_lexer": "ipython3",
   "version": "3.7.4"
  }
 },
 "nbformat": 4,
 "nbformat_minor": 2
}
